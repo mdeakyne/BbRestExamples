{
 "cells": [
  {
   "cell_type": "markdown",
   "metadata": {},
   "source": [
    "# BbRest : Blackboard for Humans\n",
    "## Presenter : Matt Deakyne\n",
    "## m.d@ku.edu"
   ]
  },
  {
   "cell_type": "markdown",
   "metadata": {},
   "source": [
    "# Setting Up an Integration\n",
    "There are three steps to go through before you can start making REST calls against your Blackboard.  \n",
    "1. Register as a Blackboard Developer.\n",
    "2. Register your Application with Blackboard.\n",
    "3. Register your Apllication in Learn."
   ]
  },
  {
   "cell_type": "markdown",
   "metadata": {},
   "source": [
    "## Register as a Blackboard Developer\n",
    "Blackboard Learn REST integrations begin at the Developer Portal. This is where you register REST Applications and get the ID, key, and secrets. In the portal, you can see which client systems are using the integrations. Signing up is free, and you can develop your integration at no cost. There may be cost involved in deploying your integration, but before that happens, you'll have to speak with us. To discuss deploying your application, please contact Blackboard at developers@blackboard.com. Before you can authenticate your project with Blackboard applications, you need to be a registered Blackboard developer.To register as a Blackboard developer:\n",
    "\n",
    "1. Go to https://developer.blackboard.com/ and select Sign Up. Read and agree to the terms and conditions.\n",
    "2. Provide your email address, a password, your first name and last, and select the checkbox to prove you are human.\n",
    "3. Select Create Account and you're on your way.\n",
    "\n",
    "For more information about the Developer Portal please see What is the Developer Portal: Developer Registration and Application Management.\n",
    "\n",
    "\n",
    "## Register Your Application\n",
    "For your application to work with Blackboard Learn, you must register it in the developer portal. When you register your application, you receive a unique key and secret. The key/secret combination is unique, identifies your application, and cannot be retrieved. You must write them down someplace safe and treat them as credentials. You use them as part of the process to authenticate your application with Blackboard Learn instances.\n",
    "\n",
    " \n",
    "\n",
    "To register your application:\n",
    "\n",
    "Log into https://developer.blackboard.com/. If you do not have a login, you must sign up for one first.\n",
    "With the My Applications tab highlighted, select the + (add) icon.\n",
    "Complete the required fields. The default developer group for your application is your name. You can change this later. For more information about developer groups, see Developer Groups, Site Quotas, and Rate Limits. Learn displays your application's name and description to Learn administrators when they connect your application to their system. This helps them make sure they have found the intended application.\n",
    "The following fields are required:\n",
    "for REST applications, provide only a Name and Description for your application and select a Group to work on the project.\n",
    "for LTI 1.1 tools, provide Name, Description, Domain(s), and Group.\n",
    "for LTI 1.3 tools, complete all fields.\n",
    "Select Save. The portal displays your applications key and secret.\n",
    "Copy your key and secret and keep them safe.\n",
    " \n",
    "\n",
    "You will use your key and secret to authenticate your application with Blackboard Learn to use REST API methods.\n",
    "\n",
    "## Register a Rest Integration in Learn\n",
    "**It's recommended to begin on a staging or dev system first!**  \n",
    "\n",
    "Blackboard Learn supports the integration of external applications built using Blackboard Learn REST APIs. Before you can use an integration with Blackboard Learn, an administrator must register it with Blackboard Learn.\n",
    "\n",
    "Before you begin to register the application, you must obtain an application ID. The developer may provide the ID directly to the administrator or bundle it with the support documentation for the application. \n",
    "\n",
    "System Admin > Building Blocks > REST API Integrations\n",
    "\n",
    "1. On the REST API Integrations page, select Create Integration.\n",
    "In the Application ID space, enter the application ID proved by the integration's developers.\n",
    "2. Select Browse next to Learn User. Search through the list of Blackboard Learn users to find the user that the integration should act as. Typically, an integration acts as Administrator or some other user created for integration management. Ideally, the user has only the permissions that the integration needs to function properly.\n",
    "3. For third-party integration, set End User Access to Yes. End users will sign in with their own Blackboard Learn ID to use the integration. Each user's access is then limited to his or her own permissions. If you set End User Access to No, the integration always has access as if it were the Blackboard Learn user indicated on the form.\n",
    "4. Submit to save your settings for the integration."
   ]
  },
  {
   "cell_type": "markdown",
   "metadata": {},
   "source": [
    "# Installing and Configuring BbRest\n",
    "The next few blocks install a python library called BbRest.  After going through the above steps - this should take very little time to get up and running. "
   ]
  },
  {
   "cell_type": "markdown",
   "metadata": {},
   "source": [
    "# Setting up the environment variables.\n",
    "This hardcodes your values - so be careful when sharing or presenting this notebook!"
   ]
  },
  {
   "cell_type": "code",
   "execution_count": 4,
   "metadata": {},
   "outputs": [],
   "source": [
    "# Fake values, replace with your actual ones.  Theses are the values you recieved when Registering your Application.\n",
    "url = 'https://domain.school.edu'\n",
    "key = 'e08909a-8373-3843-4b38-0ed9a0cbfa' \n",
    "secret = 'Isd89Snass8ds7yJScjdd80saNUX' "
   ]
  },
  {
   "cell_type": "code",
   "execution_count": 6,
   "metadata": {},
   "outputs": [
    {
     "name": "stdout",
     "output_type": "stream",
     "text": [
      "Requirement already satisfied: BbRest in ./.venv/lib/python3.7/site-packages (0.2.7)\n",
      "Requirement already satisfied: aiohttp in ./.venv/lib/python3.7/site-packages (from BbRest) (3.5.4)\n",
      "Requirement already satisfied: maya in ./.venv/lib/python3.7/site-packages (from BbRest) (0.6.1)\n",
      "Requirement already satisfied: requests in ./.venv/lib/python3.7/site-packages (from BbRest) (2.22.0)\n",
      "Requirement already satisfied: multidict<5.0,>=4.0 in ./.venv/lib/python3.7/site-packages (from aiohttp->BbRest) (4.5.2)\n",
      "Requirement already satisfied: attrs>=17.3.0 in ./.venv/lib/python3.7/site-packages (from aiohttp->BbRest) (19.1.0)\n",
      "Requirement already satisfied: yarl<2.0,>=1.0 in ./.venv/lib/python3.7/site-packages (from aiohttp->BbRest) (1.3.0)\n",
      "Requirement already satisfied: chardet<4.0,>=2.0 in ./.venv/lib/python3.7/site-packages (from aiohttp->BbRest) (3.0.4)\n",
      "Requirement already satisfied: async-timeout<4.0,>=3.0 in ./.venv/lib/python3.7/site-packages (from aiohttp->BbRest) (3.0.1)\n",
      "Requirement already satisfied: tzlocal in ./.venv/lib/python3.7/site-packages (from maya->BbRest) (1.5.1)\n",
      "Requirement already satisfied: dateparser>=0.7.0 in ./.venv/lib/python3.7/site-packages (from maya->BbRest) (0.7.1)\n",
      "Requirement already satisfied: pendulum>=2.0.2 in ./.venv/lib/python3.7/site-packages (from maya->BbRest) (2.0.4)\n",
      "Requirement already satisfied: humanize in ./.venv/lib/python3.7/site-packages (from maya->BbRest) (0.5.1)\n",
      "Requirement already satisfied: pytz in ./.venv/lib/python3.7/site-packages (from maya->BbRest) (2019.1)\n",
      "Requirement already satisfied: snaptime in ./.venv/lib/python3.7/site-packages (from maya->BbRest) (0.2.4)\n",
      "Requirement already satisfied: urllib3!=1.25.0,!=1.25.1,<1.26,>=1.21.1 in ./.venv/lib/python3.7/site-packages (from requests->BbRest) (1.25.3)\n",
      "Requirement already satisfied: idna<2.9,>=2.5 in ./.venv/lib/python3.7/site-packages (from requests->BbRest) (2.8)\n",
      "Requirement already satisfied: certifi>=2017.4.17 in ./.venv/lib/python3.7/site-packages (from requests->BbRest) (2019.6.16)\n",
      "Requirement already satisfied: regex in ./.venv/lib/python3.7/site-packages (from dateparser>=0.7.0->maya->BbRest) (2019.6.8)\n",
      "Requirement already satisfied: python-dateutil in ./.venv/lib/python3.7/site-packages (from dateparser>=0.7.0->maya->BbRest) (2.8.0)\n",
      "Requirement already satisfied: pytzdata>=2018.3 in ./.venv/lib/python3.7/site-packages (from pendulum>=2.0.2->maya->BbRest) (2019.1)\n",
      "Requirement already satisfied: six>=1.5 in ./.venv/lib/python3.7/site-packages (from python-dateutil->dateparser>=0.7.0->maya->BbRest) (1.12.0)\n",
      "\u001b[33mYou are using pip version 10.0.1, however version 19.2.1 is available.\n",
      "You should consider upgrading via the 'pip install --upgrade pip' command.\u001b[0m\n"
     ]
    }
   ],
   "source": [
    "!pip install BbRest==2.8"
   ]
  },
  {
   "cell_type": "code",
   "execution_count": 7,
   "metadata": {},
   "outputs": [],
   "source": [
    "from bbrest import BbRest"
   ]
  },
  {
   "cell_type": "code",
   "execution_count": 9,
   "metadata": {},
   "outputs": [],
   "source": [
    "bb = BbRest(key, secret, url)"
   ]
  },
  {
   "cell_type": "markdown",
   "metadata": {},
   "source": [
    "# Solved Problems\n",
    "\n",
    "Let's start by going over some inconveniences with the rest api.  \n",
    "\n",
    "* Token Management: If you are just getting started with Bb APIs, token management is a huge obstacle.  Especially for less-technical fields. \n",
    "\n",
    "* API availability: SaaS is constantly rolling out APIs, and these eventually arrive at MH or SH clients with version upgrades (not Cumulative Updates).  Knowing what methods are avaialble to you is easier now, but still an inconvenience. \n",
    "\n",
    "* API discovery: Navigating developers.blackboard.com can be tricky - and this tries to help you do this from the command line, rather than coding with a bunch of tabs open.\n",
    "\n",
    "* Call tracking: Sometimes you use a lot of API calls when trying things out.  Being able to keep track of how many you've used is possible but difficult.  This makes it easier"
   ]
  },
  {
   "cell_type": "markdown",
   "metadata": {},
   "source": [
    "## Token Management\n",
    "BbRest gets a token for all calls when created.  You can manually check expiration, and manually refresh the token if you want.  Tokens in Blackboard can't be manually expired, however, and refreshing the token before it's expired ... just gets back the same token.  "
   ]
  },
  {
   "cell_type": "code",
   "execution_count": 10,
   "metadata": {},
   "outputs": [
    {
     "data": {
      "text/plain": [
       "'in 59 minutes'"
      ]
     },
     "execution_count": 10,
     "metadata": {},
     "output_type": "execute_result"
    }
   ],
   "source": [
    "bb.expiration()"
   ]
  },
  {
   "cell_type": "code",
   "execution_count": 11,
   "metadata": {},
   "outputs": [],
   "source": [
    "bb.refresh_token()"
   ]
  },
  {
   "cell_type": "code",
   "execution_count": 12,
   "metadata": {},
   "outputs": [
    {
     "data": {
      "text/plain": [
       "'in 59 minutes'"
      ]
     },
     "execution_count": 12,
     "metadata": {},
     "output_type": "execute_result"
    }
   ],
   "source": [
    "bb.expiration()"
   ]
  },
  {
   "cell_type": "markdown",
   "metadata": {},
   "source": [
    "## API availability\n",
    "BbRest only creates functions for the specific version of Blackboard it's instantiated on.  It uses APIs to check the version, and then generated methods for that version.  This is really helpful when switching between a test system and production, and testing between the two."
   ]
  },
  {
   "cell_type": "code",
   "execution_count": 13,
   "metadata": {},
   "outputs": [
    {
     "data": {
      "text/plain": [
       "'3400.0.0'"
      ]
     },
     "execution_count": 13,
     "metadata": {},
     "output_type": "execute_result"
    }
   ],
   "source": [
    "bb.version"
   ]
  },
  {
   "cell_type": "code",
   "execution_count": 15,
   "metadata": {},
   "outputs": [
    {
     "data": {
      "text/plain": [
       "'https://bbtest2.cc.ku.edu/learn/api/public/v2/courses/courseId:example/gradebook/columns'"
      ]
     },
     "execution_count": 15,
     "metadata": {},
     "output_type": "execute_result"
    }
   ],
   "source": [
    "bb.GetGradeColumns('example').url"
   ]
  },
  {
   "cell_type": "markdown",
   "metadata": {},
   "source": [
    "## API Discovery\n",
    "Tab completion, and dynamic docstrings make navigating the library a little easier.  All based on [developer.blackboard.com](developer.blackboard.com)"
   ]
  },
  {
   "cell_type": "code",
   "execution_count": 19,
   "metadata": {},
   "outputs": [
    {
     "data": {
      "text/plain": [
       "{'id': '_384979_1',\n",
       " 'uuid': '6fa934b60f9a4de7a4d9a59885a6f63c',\n",
       " 'externalId': 'deak_test',\n",
       " 'dataSourceId': '_5_1',\n",
       " 'userName': 'deak_test',\n",
       " 'studentId': '2894525',\n",
       " 'educationLevel': 'Unknown',\n",
       " 'gender': 'Male',\n",
       " 'birthDate': '1986-12-30T06:00:00.000Z',\n",
       " 'created': '2018-08-09T19:48:08.000Z',\n",
       " 'institutionRoleIds': ['STUDENT'],\n",
       " 'systemRoleIds': ['User'],\n",
       " 'availability': {'available': 'Yes'},\n",
       " 'name': {'given': 'Matthew',\n",
       "  'family': 'Deakyne',\n",
       "  'middle': 'F',\n",
       "  'title': 'Captain'},\n",
       " 'job': {'title': 'IT Technology Manager',\n",
       "  'department': 'Information Technology'},\n",
       " 'contact': {'businessPhone': '+1 785 864 0327', 'email': 'mdeakyne@ku.edu'},\n",
       " 'address': {'street1': '1001 Sunnyside Ave',\n",
       "  'city': 'Lawrence',\n",
       "  'state': 'KS',\n",
       "  'zipCode': '66045-7562'}}"
      ]
     },
     "execution_count": 19,
     "metadata": {},
     "output_type": "execute_result"
    }
   ],
   "source": [
    "#Examples of searching through available documentation\n",
    "\n",
    "#bb.Get...\n",
    "#bb.GetUser()...\n",
    "bb.GetUser('deak_test').json()"
   ]
  },
  {
   "cell_type": "markdown",
   "metadata": {},
   "source": [
    "## Call Tracking\n",
    "There have been times during testing that KU used 10000 calls in a matter of minutes. We've also been interested in limiting the number of calls in certain applications, though modifications.  Tracking the number of calls is possible with headers - but BbRest makes it easier. "
   ]
  },
  {
   "cell_type": "code",
   "execution_count": 20,
   "metadata": {},
   "outputs": [
    {
     "name": "stdout",
     "output_type": "stream",
     "text": [
      "You've used 4 REST calls so far.\n",
      "You have 100.00% left until in 10 hours\n",
      "After that, they should reset\n"
     ]
    }
   ],
   "source": [
    "bb.calls_remaining()"
   ]
  },
  {
   "cell_type": "markdown",
   "metadata": {},
   "source": [
    "# Use Cases\n",
    "I've built out three notebook files to demonstrate three potential use cases for this library, each for a specific audience.  These are available at the following links:\n",
    "\n",
    "* [DevCon1](https://colab.research.google.com/github/mdeakyne/BbRestExamples/blob/master/1.%20SysAdmin.ipynb)\n",
    "* [DevCon2](https://colab.research.google.com/github/mdeakyne/BbRestExamples/blob/master/2.%20Developer.ipynb)\n"
   ]
  },
  {
   "cell_type": "code",
   "execution_count": null,
   "metadata": {},
   "outputs": [],
   "source": []
  }
 ],
 "metadata": {
  "kernelspec": {
   "display_name": "Python 3",
   "language": "python",
   "name": "python3"
  },
  "language_info": {
   "codemirror_mode": {
    "name": "ipython",
    "version": 3
   },
   "file_extension": ".py",
   "mimetype": "text/x-python",
   "name": "python",
   "nbconvert_exporter": "python",
   "pygments_lexer": "ipython3",
   "version": "3.7.0"
  }
 },
 "nbformat": 4,
 "nbformat_minor": 2
}
