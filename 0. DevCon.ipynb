{
 "cells": [
  {
   "cell_type": "markdown",
   "metadata": {},
   "source": [
    "# BbRest : Blackboard for Humans\n",
    "## Presenter : Matt Deakyne\n",
    "## m.d@ku.edu"
   ]
  },
  {
   "cell_type": "markdown",
   "metadata": {},
   "source": [
    "# Setting up the environment variables.\n",
    "You don't want to ever publish your key or secret - which is why these are stored in a .env file that is not shared in your git repo / or visible when presenting.  Python has two functions to get these values in a secure way: \n",
    "\n",
    "load_dotenv - adds the contents of .env file to your environment.\n",
    "getenv - reads the environment variables into local python variables.\n",
    "\n",
    "_NOTE: You can skip this step, and hardcode in the values - but you should avoid committing these anywhere, or displaying them for others._"
   ]
  },
  {
   "cell_type": "code",
   "execution_count": 19,
   "metadata": {},
   "outputs": [
    {
     "name": "stdout",
     "output_type": "stream",
     "text": [
      "All environment variables loaded successfully\n"
     ]
    }
   ],
   "source": [
    "from dotenv import load_dotenv\n",
    "from os import getenv\n",
    "\n",
    "if load_dotenv():\n",
    "    key, secret, url = getenv('qkey'), getenv('qsecret'), getenv('qurl')\n",
    "    try:\n",
    "        assert key, \"Key not loaded\"\n",
    "        assert secret, \"Secret not loaded\"\n",
    "        assert url, \"Url not loaded\"\n",
    "        print(\"All environment variables loaded successfully\")\n",
    "    except AssertionError as e:\n",
    "        print(e)\n",
    "        print(\"Ensure your .env file has url, key and secret\")\n",
    "else:\n",
    "    print('Make sure you have a .env file')\n",
    "    "
   ]
  },
  {
   "cell_type": "markdown",
   "metadata": {},
   "source": [
    "# Setup \n",
    "Setup requires knowing your key, secret and base url.  \n",
    "These are made up values below.\n",
    "Example values:\n",
    "\n",
    "```python\n",
    "url = 'https://domain.school.edu'\n",
    "key = 'e08909a-8373-3843-4b38-0ed9a0cbfa' \n",
    "secret = 'Isd89Snass8ds7yJScjdd80saNUX' \n",
    "```"
   ]
  },
  {
   "cell_type": "code",
   "execution_count": 20,
   "metadata": {},
   "outputs": [],
   "source": [
    "from bbrest import BbRest"
   ]
  },
  {
   "cell_type": "code",
   "execution_count": 21,
   "metadata": {},
   "outputs": [],
   "source": [
    "bb = BbRest(key, secret, url)"
   ]
  },
  {
   "cell_type": "markdown",
   "metadata": {},
   "source": [
    "# Solved Problems\n",
    "\n",
    "Let's start by going over some inconveniences with the rest api.  \n",
    "\n",
    "* Token Management: If you are just getting started with Bb APIs, token management is a huge obstacle.  Especially for less-technical fields. \n",
    "\n",
    "* API availability: SaaS is constantly rolling out APIs, and these eventually arrive at MH or SH clients with version upgrades (not Cumulative Updates).  Knowing what methods are avaialble to you is easier now, but still an inconvenience. \n",
    "\n",
    "* API discovery: Navigating developers.blackboard.com can be tricky - and this tries to help you do this from the command line, rather than coding with a bunch of tabs open.\n",
    "\n",
    "* Call tracking: Sometimes you use a lot of API calls when trying things out.  Being able to keep track of how many you've used is possible but difficult.  This makes it easier"
   ]
  },
  {
   "cell_type": "markdown",
   "metadata": {},
   "source": [
    "## Token Management\n",
    "BbRest gets a token for all calls when created.  You can manually check expiration, and manually refresh the token if you want.  Tokens in Blackboard can't be manually expired, however, and refreshing the token before it's expired ... just gets back the same token.  "
   ]
  },
  {
   "cell_type": "code",
   "execution_count": 22,
   "metadata": {},
   "outputs": [
    {
     "data": {
      "text/plain": [
       "'in 59 minutes'"
      ]
     },
     "execution_count": 22,
     "metadata": {},
     "output_type": "execute_result"
    }
   ],
   "source": [
    "bb.expiration()"
   ]
  },
  {
   "cell_type": "code",
   "execution_count": 23,
   "metadata": {},
   "outputs": [],
   "source": [
    "bb.refresh_token()"
   ]
  },
  {
   "cell_type": "code",
   "execution_count": 24,
   "metadata": {},
   "outputs": [
    {
     "data": {
      "text/plain": [
       "'in 58 minutes'"
      ]
     },
     "execution_count": 24,
     "metadata": {},
     "output_type": "execute_result"
    }
   ],
   "source": [
    "bb.expiration()"
   ]
  },
  {
   "cell_type": "markdown",
   "metadata": {},
   "source": [
    "## API availability\n",
    "BbRest only creates functions for the specific version of Blackboard it's instantiated on.  It uses APIs to check the version, and then generated methods for that version.  This is really helpful when switching between a test system and production, and testing between the two."
   ]
  },
  {
   "cell_type": "code",
   "execution_count": 25,
   "metadata": {},
   "outputs": [
    {
     "data": {
      "text/plain": [
       "'3400.0.0'"
      ]
     },
     "execution_count": 25,
     "metadata": {},
     "output_type": "execute_result"
    }
   ],
   "source": [
    "bb.version"
   ]
  },
  {
   "cell_type": "code",
   "execution_count": 26,
   "metadata": {},
   "outputs": [
    {
     "data": {
      "text/plain": [
       "'https://bbqa.cc.ku.edu/learn/api/public/v2/courses/courseId:TST-101/gradebook/columns'"
      ]
     },
     "execution_count": 26,
     "metadata": {},
     "output_type": "execute_result"
    }
   ],
   "source": [
    "bb.GetGradeColumns('TST-101').url"
   ]
  },
  {
   "cell_type": "markdown",
   "metadata": {},
   "source": [
    "## API Discovery\n",
    "Tab completion, and dynamic docstrings make navigating the library a little easier.  All based on [developer.blackboard.com](developer.blackboard.com)"
   ]
  },
  {
   "cell_type": "code",
   "execution_count": 12,
   "metadata": {},
   "outputs": [
    {
     "data": {
      "text/plain": [
       "{'id': '_702000_1',\n",
       " 'uuid': 'c2a68d3b2f5b49079db030d80113a356',\n",
       " 'externalId': '2894525',\n",
       " 'dataSourceId': '_14_1',\n",
       " 'userName': 'm500d520',\n",
       " 'studentId': '2894525',\n",
       " 'educationLevel': 'Unknown',\n",
       " 'gender': 'Unknown',\n",
       " 'created': '2016-03-18T06:01:36.000Z',\n",
       " 'lastLogin': '2018-06-11T14:58:23.000Z',\n",
       " 'institutionRoleIds': ['STAFF', 'BbMobile', 'KU_NSSE'],\n",
       " 'systemRoleIds': ['KU_ET', 'KU_ASD'],\n",
       " 'availability': {'available': 'Yes'},\n",
       " 'name': {'given': 'Matthew', 'family': 'Deakyne', 'middle': 'F'},\n",
       " 'job': {'title': 'IT Technology Manager',\n",
       "  'department': 'Information Technology'},\n",
       " 'contact': {'businessPhone': '+1 785 864 0428', 'email': 'mdeakyne@ku.edu'},\n",
       " 'address': {'street1': '1001 Sunnyside Ave',\n",
       "  'city': 'Lawrence',\n",
       "  'state': 'KS',\n",
       "  'zipCode': '66045-7562'}}"
      ]
     },
     "execution_count": 12,
     "metadata": {},
     "output_type": "execute_result"
    }
   ],
   "source": [
    "#Examples of searching through available documentation\n",
    "\n",
    "#bb.Get...\n",
    "#bb.GetUser()...\n",
    "bb.GetUser('m500d520').json()\n"
   ]
  },
  {
   "cell_type": "markdown",
   "metadata": {},
   "source": [
    "## Call Tracking\n",
    "There have been times during testing that KU used 10000 calls in a matter of minutes. We've also been interested in limiting the number of calls in certain applications, though modifications.  Tracking the number of calls is possible with headers - but BbRest makes it easier. "
   ]
  },
  {
   "cell_type": "code",
   "execution_count": 29,
   "metadata": {},
   "outputs": [
    {
     "name": "stdout",
     "output_type": "stream",
     "text": [
      "You've used 232 REST calls so far.\n",
      "You have 99.85% left until in 23 minutes\n",
      "After that, they should reset\n"
     ]
    }
   ],
   "source": [
    "bb.calls_remaining()"
   ]
  },
  {
   "cell_type": "markdown",
   "metadata": {},
   "source": [
    "# Use Cases\n",
    "I've built out three notebook files to demonstrate three potential use cases for this library, each for a specific audience."
   ]
  },
  {
   "cell_type": "code",
   "execution_count": null,
   "metadata": {},
   "outputs": [],
   "source": []
  }
 ],
 "metadata": {
  "kernelspec": {
   "display_name": "Python 3",
   "language": "python",
   "name": "python3"
  },
  "language_info": {
   "codemirror_mode": {
    "name": "ipython",
    "version": 3
   },
   "file_extension": ".py",
   "mimetype": "text/x-python",
   "name": "python",
   "nbconvert_exporter": "python",
   "pygments_lexer": "ipython3",
   "version": "3.7.0"
  }
 },
 "nbformat": 4,
 "nbformat_minor": 2
}
