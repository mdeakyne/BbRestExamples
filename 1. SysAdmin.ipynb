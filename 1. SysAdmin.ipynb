{
 "cells": [
  {
   "cell_type": "markdown",
   "metadata": {},
   "source": [
    "# System Administrators\n",
    "## Setup : this should seem familiar"
   ]
  },
  {
   "cell_type": "code",
   "execution_count": 1,
   "metadata": {},
   "outputs": [
    {
     "name": "stdout",
     "output_type": "stream",
     "text": [
      "All environment variables loaded successfully\n"
     ]
    }
   ],
   "source": [
    "from dotenv import load_dotenv\n",
    "from os import getenv\n",
    "from faker import Faker\n",
    "fake = Faker()\n",
    "import random\n",
    "\n",
    "if load_dotenv():\n",
    "    key, secret, url = getenv('qkey'), getenv('qsecret'), getenv('qurl')\n",
    "    try:\n",
    "        assert key, \"Key not loaded\"\n",
    "        assert secret, \"Secret not loaded\"\n",
    "        assert url, \"Url not loaded\"\n",
    "        print(\"All environment variables loaded successfully\")\n",
    "    except AssertionError as e:\n",
    "        print(e)\n",
    "        print(\"Ensure your .env file has url, key and secret\")\n",
    "else:\n",
    "    print('Make sure you have a .env file')"
   ]
  },
  {
   "cell_type": "code",
   "execution_count": 2,
   "metadata": {},
   "outputs": [],
   "source": [
    "from bbrest import BbRest\n",
    "bb = BbRest(key, secret, url)"
   ]
  },
  {
   "cell_type": "markdown",
   "metadata": {},
   "source": [
    "# Three Use Cases:\n",
    "\n",
    "* 1. Creating fake users, three fake courses, and fake memberships. \n",
    "* 2. Getting a users last accessed courses \n",
    "* 3. Disabling and enabling a course and user. "
   ]
  },
  {
   "cell_type": "markdown",
   "metadata": {},
   "source": [
    "## Creating Fake Users, Courses and Memberships"
   ]
  },
  {
   "cell_type": "markdown",
   "metadata": {},
   "source": [
    "### Creating Fake Courses\n",
    "We are going to create 3 fake courses.  Since we are only creating a handful, we will enter the information manually."
   ]
  },
  {
   "cell_type": "code",
   "execution_count": 3,
   "metadata": {},
   "outputs": [
    {
     "name": "stdout",
     "output_type": "stream",
     "text": [
      "{'id': '_332335_1', 'uuid': 'ff72a5d667a149a299e4c4611355d665', 'externalId': 'NAC-DevCon1', 'dataSourceId': '_2_1', 'courseId': 'NAC-DevCon1', 'name': 'DevCon-Demo1', 'created': '2019-07-22T02:59:28.000Z', 'organization': False, 'ultraStatus': 'Classic', 'allowGuests': False, 'readOnly': False, 'availability': {'available': 'Yes', 'duration': {'type': 'Continuous'}}, 'enrollment': {'type': 'InstructorLed'}, 'locale': {'force': False}, 'externalAccessUrl': 'https://bbqa.cc.ku.edu/webapps/blackboard/execute/courseMain?course_id=_332335_1&sc='}\n"
     ]
    }
   ],
   "source": [
    "r = bb.CreateCourse(payload={'name':'DevCon-Demo1','courseId':'NAC-DevCon1'})\n",
    "print(r.json())"
   ]
  },
  {
   "cell_type": "code",
   "execution_count": 4,
   "metadata": {},
   "outputs": [
    {
     "name": "stdout",
     "output_type": "stream",
     "text": [
      "201\n",
      "201\n"
     ]
    }
   ],
   "source": [
    "r1 = bb.CreateCourse(payload={'name':'DevCon-Demo2','courseId':'NAC-DevCon2'})\n",
    "r2 = bb.CreateCourse(payload={'name':'DevCon-Demo3','courseId':'NAC-DevCon3'})\n",
    "\n",
    "print(r1.status_code)\n",
    "print(r2.status_code)"
   ]
  },
  {
   "cell_type": "markdown",
   "metadata": {},
   "source": [
    "### Creating Fake Users\n",
    "For this, we are going to create 50 users with the help from the libary 'faker'.  Faker generates random names / addresses / passwords ... basically all user info needed for this use case."
   ]
  },
  {
   "cell_type": "code",
   "execution_count": 5,
   "metadata": {},
   "outputs": [
    {
     "name": "stdout",
     "output_type": "stream",
     "text": [
      "Created account for Omar Branch\n",
      "Created account for Michelle Mitchell\n",
      "Created account for Edward Garcia\n",
      "Created account for Jessica Serrano\n",
      "Created account for John Morris\n",
      "Created account for Laurie Curry\n",
      "Created account for Kristina Ruiz\n",
      "Created account for Paul Colon\n",
      "Created account for Shawn Harris\n",
      "Created account for William Holmes\n",
      "Created account for Tammy Miller\n",
      "Created account for Marisa Hunter\n",
      "Created account for Stacy Perkins\n",
      "Created account for Steven Ruiz\n",
      "Created account for Molly Henson\n",
      "Created account for Anna Wilson\n",
      "Created account for Megan Henderson\n",
      "Created account for Sarah Obrien\n",
      "Created account for Brian Long\n",
      "Created account for James Harris\n",
      "Created account for Ryan Alexander\n",
      "Created account for Brandon Williams\n",
      "{\"status\":409,\"message\":\"Unique ID conflicts with existing record: userName\"}\n",
      "Account not created for Patrick Smith\n",
      "Created account for William Hall\n",
      "Created account for Amber Lang\n",
      "Created account for Tracy Lewis\n",
      "Created account for Claudia Schneider\n",
      "Created account for Lisa Booth\n",
      "Created account for Kimberly Norris\n",
      "Created account for Jessica Taylor\n",
      "Created account for Alex Dean\n",
      "Created account for Amber Hill\n",
      "Created account for Susan Hodges\n",
      "Created account for Stephen Rodriguez\n",
      "Created account for Roger Marsh\n",
      "Created account for Denise Wilson\n",
      "Created account for Robert Gardner\n",
      "Created account for Kelly Ross\n",
      "Created account for Regina Maldonado\n",
      "Created account for Sean Tapia\n",
      "Created account for Michael Mathis\n",
      "Created account for Tina Mills\n",
      "Created account for Melissa Black\n",
      "Created account for Sherri Tyler\n",
      "Created account for Nicole Gutierrez\n",
      "Created account for Megan Burnett\n",
      "Created account for Susan Evans\n",
      "Created account for Erin Fox\n",
      "Created account for Alyssa Chapman\n",
      "Created account for Leslie Rosario\n"
     ]
    }
   ],
   "source": [
    "students = []\n",
    "for _ in range(50):\n",
    "    name = fake.name()\n",
    "    while len(name.split()) > 2:\n",
    "        name = fake.name()\n",
    "    names = name.split()  \n",
    "    first = names[0]\n",
    "    last = names[-1]\n",
    "    userName = f'{first[0]}{last}{fake.random_number(digits=3)}'.lower()\n",
    "    studentId = fake.random_number(digits=9,fix_len=True)\n",
    "    email = f'{userName}@ku.edu'\n",
    "    password = fake.password()\n",
    "    \n",
    "    student = {'name':{'family': last, 'given': first},\n",
    "               'userName': userName,\n",
    "               'password': password,\n",
    "               'studentId': studentId,\n",
    "               'externalId': studentId,\n",
    "               'contact': {'email':email}\n",
    "              }\n",
    "    \n",
    "    \n",
    "    r = bb.CreateUser(payload=student)\n",
    "    \n",
    "    if r.status_code == 201:\n",
    "        print(f'Created account for {name}')\n",
    "        students.append(student)\n",
    "    else:\n",
    "        print(r.text)\n",
    "        print(f'Account not created for {name}')"
   ]
  },
  {
   "cell_type": "markdown",
   "metadata": {},
   "source": [
    "### Creating Fake Memberships\n",
    "We are going to add my account as an instructor in these three courses, and the students each into one of the three courses."
   ]
  },
  {
   "cell_type": "code",
   "execution_count": 6,
   "metadata": {},
   "outputs": [
    {
     "name": "stdout",
     "output_type": "stream",
     "text": [
      "201\n",
      "201\n",
      "201\n"
     ]
    }
   ],
   "source": [
    "courses = ['NAC-DevCon1', 'NAC-DevCon2', 'NAC-DevCon3']\n",
    "for course in courses:\n",
    "    r = bb.CreateMembership(userId='m500d520', courseId=course, payload={'courseRoleId':'Instructor'})\n",
    "    print(r.status_code)"
   ]
  },
  {
   "cell_type": "code",
   "execution_count": 7,
   "metadata": {},
   "outputs": [
    {
     "data": {
      "text/plain": [
       "'NAC-DevCon3'"
      ]
     },
     "execution_count": 7,
     "metadata": {},
     "output_type": "execute_result"
    }
   ],
   "source": [
    "import random"
   ]
  },
  {
   "cell_type": "code",
   "execution_count": 11,
   "metadata": {},
   "outputs": [
    {
     "data": {
      "text/plain": [
       "'NAC-DevCon3'"
      ]
     },
     "execution_count": 11,
     "metadata": {},
     "output_type": "execute_result"
    }
   ],
   "source": [
    "random.choice(courses)"
   ]
  },
  {
   "cell_type": "code",
   "execution_count": 12,
   "metadata": {},
   "outputs": [
    {
     "name": "stdout",
     "output_type": "stream",
     "text": [
      "Added obranch826 to NAC-DevCon1\n",
      "Added mmitchell43 to NAC-DevCon3\n",
      "Added egarcia770 to NAC-DevCon2\n",
      "Added jserrano635 to NAC-DevCon3\n",
      "Added jmorris691 to NAC-DevCon1\n",
      "Added lcurry799 to NAC-DevCon1\n",
      "Added kruiz303 to NAC-DevCon3\n",
      "Added pcolon57 to NAC-DevCon2\n",
      "Added sharris993 to NAC-DevCon2\n",
      "Added wholmes200 to NAC-DevCon2\n",
      "Added tmiller415 to NAC-DevCon1\n",
      "Added mhunter962 to NAC-DevCon3\n",
      "Added sperkins450 to NAC-DevCon1\n",
      "Added sruiz294 to NAC-DevCon2\n",
      "Added mhenson8 to NAC-DevCon2\n",
      "Added awilson488 to NAC-DevCon1\n",
      "Added mhenderson650 to NAC-DevCon1\n",
      "Added sobrien739 to NAC-DevCon3\n",
      "Added blong612 to NAC-DevCon3\n",
      "Added jharris806 to NAC-DevCon3\n",
      "Added ralexander581 to NAC-DevCon3\n",
      "Added bwilliams179 to NAC-DevCon3\n",
      "Added whall618 to NAC-DevCon1\n",
      "Added alang463 to NAC-DevCon1\n",
      "Added tlewis964 to NAC-DevCon1\n",
      "Added cschneider623 to NAC-DevCon2\n",
      "Added lbooth158 to NAC-DevCon1\n",
      "Added knorris297 to NAC-DevCon2\n",
      "Added jtaylor640 to NAC-DevCon1\n",
      "Added adean382 to NAC-DevCon1\n",
      "Added ahill873 to NAC-DevCon3\n",
      "Added shodges599 to NAC-DevCon3\n",
      "Added srodriguez106 to NAC-DevCon2\n",
      "Added rmarsh296 to NAC-DevCon3\n",
      "Added dwilson617 to NAC-DevCon2\n",
      "Added rgardner117 to NAC-DevCon2\n",
      "Added kross899 to NAC-DevCon2\n",
      "Added rmaldonado659 to NAC-DevCon2\n",
      "Added stapia332 to NAC-DevCon2\n",
      "Added mmathis992 to NAC-DevCon3\n",
      "Added tmills967 to NAC-DevCon1\n",
      "Added mblack361 to NAC-DevCon3\n",
      "Added styler278 to NAC-DevCon2\n",
      "Added ngutierrez19 to NAC-DevCon3\n",
      "Added mburnett560 to NAC-DevCon2\n",
      "Added sevans908 to NAC-DevCon2\n",
      "Added efox707 to NAC-DevCon2\n",
      "Added achapman932 to NAC-DevCon2\n",
      "Added lrosario802 to NAC-DevCon1\n"
     ]
    }
   ],
   "source": [
    "for student in students:\n",
    "    userName = student['userName']\n",
    "    course = random.choice(courses)\n",
    "    r = bb.CreateMembership(userId=userName, courseId=course, payload={})\n",
    "    if r.status_code == 201:\n",
    "        print(f'Added {userName} to {course}')\n",
    "    else:\n",
    "        print(r.text)"
   ]
  },
  {
   "cell_type": "markdown",
   "metadata": {},
   "source": [
    "## 2. Getting a User's Last accessed courses\n",
    "This is the start of some useful reporting, and can help focuse the search space for grade or access data."
   ]
  },
  {
   "cell_type": "code",
   "execution_count": 13,
   "metadata": {},
   "outputs": [
    {
     "data": {
      "text/plain": [
       "{'results': [{'userId': '_702000_1',\n",
       "   'courseId': '_332335_1',\n",
       "   'dataSourceId': '_2_1',\n",
       "   'created': '2019-07-22T03:00:30.000Z',\n",
       "   'availability': {'available': 'Yes'},\n",
       "   'courseRoleId': 'Instructor',\n",
       "   'lastAccessed': '2019-07-22T03:02:34.000Z'},\n",
       "  {'userId': '_702000_1',\n",
       "   'courseId': '_332336_1',\n",
       "   'dataSourceId': '_2_1',\n",
       "   'created': '2019-07-22T03:00:31.000Z',\n",
       "   'availability': {'available': 'Yes'},\n",
       "   'courseRoleId': 'Instructor',\n",
       "   'lastAccessed': '2019-07-22T03:02:34.000Z'},\n",
       "  {'userId': '_702000_1',\n",
       "   'courseId': '_332337_1',\n",
       "   'dataSourceId': '_2_1',\n",
       "   'created': '2019-07-22T03:00:31.000Z',\n",
       "   'availability': {'available': 'Yes'},\n",
       "   'courseRoleId': 'Instructor',\n",
       "   'lastAccessed': '2019-07-22T03:02:34.000Z'}],\n",
       " 'paging': {'nextPage': '/learn/api/public/v1/users/userName:m500d520/courses?lastAccessedCompare=greaterOrEqual&lastAccessed=2019-07-01&offset=3'}}"
      ]
     },
     "execution_count": 13,
     "metadata": {},
     "output_type": "execute_result"
    }
   ],
   "source": [
    "r = bb.GetUserMemberships('m500d520', \n",
    "                      params={'lastAccessed':'2019-07-01',\n",
    "                              'lastAccessedCompare':'greaterOrEqual'})\n",
    "r.json()"
   ]
  },
  {
   "cell_type": "code",
   "execution_count": 14,
   "metadata": {},
   "outputs": [
    {
     "name": "stdout",
     "output_type": "stream",
     "text": [
      "DevCon-Demo1\n",
      "DevCon-Demo2\n",
      "DevCon-Demo3\n"
     ]
    }
   ],
   "source": [
    "courses = r.json()['results']\n",
    "for course in courses:\n",
    "    courseId = course['courseId']\n",
    "    r = bb.GetCourse(courseId)\n",
    "    course_info = r.json()\n",
    "    print(course_info['name'])"
   ]
  },
  {
   "cell_type": "markdown",
   "metadata": {},
   "source": [
    "## 3. Disabling and enabling a user and a course\n",
    "Sometimes SIS integrations cause issues. We use SAIP, and courses have been disabled when a section changes and enrollments have been disabled when a student changes sections.  Here are quick ways to correct this with the API."
   ]
  },
  {
   "cell_type": "code",
   "execution_count": 15,
   "metadata": {},
   "outputs": [
    {
     "name": "stdout",
     "output_type": "stream",
     "text": [
      "{'id': '_332336_1', 'uuid': '1fadde2f4af64d2584fddc27c63b153b', 'externalId': 'NAC-DevCon2', 'dataSourceId': '_2_1', 'courseId': 'NAC-DevCon2', 'name': 'DevCon-Demo2', 'created': '2019-07-22T02:59:33.000Z', 'organization': False, 'ultraStatus': 'Classic', 'allowGuests': False, 'readOnly': False, 'availability': {'available': 'Disabled', 'duration': {'type': 'Continuous'}}, 'enrollment': {'type': 'InstructorLed'}, 'locale': {'force': False}}\n",
      "{'userId': '_702000_1', 'courseId': '_332335_1', 'dataSourceId': '_2_1', 'created': '2019-07-22T03:00:30.000Z', 'availability': {'available': 'Disabled'}, 'courseRoleId': 'Instructor', 'lastAccessed': '2019-07-22T03:03:34.000Z'}\n"
     ]
    }
   ],
   "source": [
    "#Causing course and user to be disabled on purpose\n",
    "r1 = bb.UpdateCourse('NAC-DevCon2', payload={'availability':{'available':'Disabled'}})\n",
    "r2 = bb.UpdateMembership(userId='m500d520', courseId='NAC-DevCon1', payload={'availability':{'available':'Disabled'}})\n",
    "\n",
    "print(r1.json())\n",
    "print(r2.json())"
   ]
  },
  {
   "cell_type": "code",
   "execution_count": 19,
   "metadata": {},
   "outputs": [
    {
     "name": "stdout",
     "output_type": "stream",
     "text": [
      "{'id': '_332336_1', 'uuid': '1fadde2f4af64d2584fddc27c63b153b', 'externalId': 'NAC-DevCon2', 'dataSourceId': '_2_1', 'courseId': 'NAC-DevCon2', 'name': 'DevCon-Demo2', 'created': '2019-07-22T02:59:33.000Z', 'organization': False, 'ultraStatus': 'Classic', 'allowGuests': False, 'readOnly': False, 'availability': {'available': 'Yes', 'duration': {'type': 'Continuous'}}, 'enrollment': {'type': 'InstructorLed'}, 'locale': {'force': False}, 'externalAccessUrl': 'https://bbqa.cc.ku.edu/webapps/blackboard/execute/courseMain?course_id=_332336_1&sc='}\n",
      "{'userId': '_702000_1', 'courseId': '_332335_1', 'dataSourceId': '_2_1', 'created': '2019-07-22T03:00:30.000Z', 'availability': {'available': 'Yes'}, 'courseRoleId': 'Instructor', 'lastAccessed': '2019-07-22T03:05:34.000Z'}\n",
      "{'userId': '_702000_1', 'courseId': '_332336_1', 'dataSourceId': '_2_1', 'created': '2019-07-22T03:00:31.000Z', 'availability': {'available': 'Yes'}, 'courseRoleId': 'Instructor', 'lastAccessed': '2019-07-22T03:05:34.000Z'}\n"
     ]
    }
   ],
   "source": [
    "r1 = bb.UpdateCourse('NAC-DevCon2', payload={'availability':{'available':'Yes'}})\n",
    "r2 = bb.UpdateMembership(userId='m500d520', courseId='NAC-DevCon1', payload={'availability':{'available':'Yes'}})\n",
    "r3 = bb.UpdateMembership(userId='m500d520', courseId='NAC-DevCon2', payload={'availability':{'available':'Yes'}})\n",
    "\n",
    "print(r1.json())\n",
    "print(r2.json())\n",
    "print(r3.json())"
   ]
  },
  {
   "cell_type": "markdown",
   "metadata": {},
   "source": [
    "# Clean-up\n",
    "Run this after the other demonstrations.  You need the users, courses and memberships for the next two Notebooks. "
   ]
  },
  {
   "cell_type": "code",
   "execution_count": 13,
   "metadata": {},
   "outputs": [
    {
     "name": "stdout",
     "output_type": "stream",
     "text": [
      "204\n",
      "204\n",
      "204\n",
      "204\n",
      "204\n",
      "204\n",
      "204\n",
      "204\n",
      "204\n",
      "204\n",
      "204\n",
      "204\n",
      "204\n",
      "204\n",
      "204\n",
      "204\n",
      "204\n",
      "204\n",
      "204\n",
      "204\n",
      "204\n",
      "204\n",
      "204\n",
      "204\n",
      "204\n",
      "204\n",
      "204\n",
      "204\n",
      "204\n",
      "204\n",
      "204\n",
      "204\n",
      "204\n",
      "204\n",
      "204\n",
      "204\n",
      "204\n",
      "204\n",
      "204\n",
      "204\n",
      "204\n",
      "204\n",
      "204\n",
      "204\n",
      "204\n",
      "204\n",
      "204\n",
      "204\n",
      "204\n"
     ]
    }
   ],
   "source": [
    "for user in [student['externalId'] for student in students]:\n",
    "    r = bb.DeleteUser(f'externalId:{user}')\n",
    "    print(r.status_code)"
   ]
  },
  {
   "cell_type": "code",
   "execution_count": 13,
   "metadata": {},
   "outputs": [
    {
     "name": "stdout",
     "output_type": "stream",
     "text": [
      "204\n",
      "204\n",
      "204\n"
     ]
    }
   ],
   "source": [
    "for course in ['NAC-DevCon1', 'NAC-DevCon2', 'NAC-DevCon3']:\n",
    "    r = bb.DeleteMembership(courseId=course, userId='m500d520')\n",
    "    r = bb.DeleteCourse(course)\n",
    "    print(r.status_code)"
   ]
  },
  {
   "cell_type": "code",
   "execution_count": 11,
   "metadata": {},
   "outputs": [],
   "source": [
    "students = bb.GetUsers(params={'created':'2019-07-20',\n",
    "                              'createdCompare':'greaterOrEqual'}).json()['results']"
   ]
  },
  {
   "cell_type": "code",
   "execution_count": 12,
   "metadata": {},
   "outputs": [
    {
     "data": {
      "text/plain": [
       "49"
      ]
     },
     "execution_count": 12,
     "metadata": {},
     "output_type": "execute_result"
    }
   ],
   "source": [
    "len(students)"
   ]
  },
  {
   "cell_type": "code",
   "execution_count": null,
   "metadata": {},
   "outputs": [],
   "source": []
  }
 ],
 "metadata": {
  "kernelspec": {
   "display_name": "Python 3",
   "language": "python",
   "name": "python3"
  },
  "language_info": {
   "codemirror_mode": {
    "name": "ipython",
    "version": 3
   },
   "file_extension": ".py",
   "mimetype": "text/x-python",
   "name": "python",
   "nbconvert_exporter": "python",
   "pygments_lexer": "ipython3",
   "version": "3.7.0"
  }
 },
 "nbformat": 4,
 "nbformat_minor": 2
}
