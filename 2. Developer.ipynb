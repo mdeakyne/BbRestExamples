{
 "cells": [
  {
   "cell_type": "markdown",
   "metadata": {},
   "source": [
    "# Developer\n",
    "## Setup : this should seem really familiar"
   ]
  },
  {
   "cell_type": "code",
   "execution_count": 1,
   "metadata": {},
   "outputs": [
    {
     "name": "stdout",
     "output_type": "stream",
     "text": [
      "All environment variables loaded successfully\n"
     ]
    }
   ],
   "source": [
    "from dotenv import load_dotenv\n",
    "from os import getenv\n",
    "\n",
    "if load_dotenv():\n",
    "    key, secret, url = getenv('qkey'), getenv('qsecret'), getenv('qurl')\n",
    "    try:\n",
    "        assert key, \"Key not loaded\"\n",
    "        assert secret, \"Secret not loaded\"\n",
    "        assert url, \"Url not loaded\"\n",
    "        print(\"All environment variables loaded successfully\")\n",
    "    except AssertionError as e:\n",
    "        print(e)\n",
    "        print(\"Ensure your .env file has url, key and secret\")\n",
    "else:\n",
    "    print('Make sure you have a .env file')"
   ]
  },
  {
   "cell_type": "code",
   "execution_count": 2,
   "metadata": {},
   "outputs": [],
   "source": [
    "from bbrest import BbRest\n",
    "bb = BbRest(key, secret, url)"
   ]
  },
  {
   "cell_type": "code",
   "execution_count": 3,
   "metadata": {},
   "outputs": [
    {
     "data": {
      "text/plain": [
       "'in 44 minutes'"
      ]
     },
     "execution_count": 3,
     "metadata": {},
     "output_type": "execute_result"
    }
   ],
   "source": [
    "bb.expiration()"
   ]
  },
  {
   "cell_type": "markdown",
   "metadata": {},
   "source": [
    "# Use Case : Creating groups for merged classes\n",
    "Steps involved:\n",
    "* Getting all course memberships\n",
    "* Getting child course information\n",
    "* Generating groups for each section (parent and child)\n",
    "* Enrolling students into groups for each section\n",
    "\n",
    "Important note: more logic is needed if you want to check the status of the groups, or if you want to update the groups regularly.  To hear more about that logic, and see an actual tool built around this usecase - I am presenting on this tomorrow."
   ]
  },
  {
   "cell_type": "markdown",
   "metadata": {},
   "source": [
    "## Get all course memberships\n",
    "Note : This is much more difficult with larger classes due to paging.  This is simplified here. BbRest should eventually deal with this, but there's no great way to do this currently."
   ]
  },
  {
   "cell_type": "code",
   "execution_count": 4,
   "metadata": {},
   "outputs": [],
   "source": [
    "members = bb.GetCourseMemberships('NAC-DevCon1', params={'limit':'100'}).json()['results']\n"
   ]
  },
  {
   "cell_type": "code",
   "execution_count": 5,
   "metadata": {},
   "outputs": [
    {
     "data": {
      "text/plain": [
       "[{'userId': '_805440_1',\n",
       "  'courseId': '_332335_1',\n",
       "  'childCourseId': '_332337_1',\n",
       "  'dataSourceId': '_2_1',\n",
       "  'created': '2019-07-22T03:01:36.000Z',\n",
       "  'availability': {'available': 'Yes'},\n",
       "  'courseRoleId': 'Student'},\n",
       " {'userId': '_805462_1',\n",
       "  'courseId': '_332335_1',\n",
       "  'childCourseId': '_332337_1',\n",
       "  'dataSourceId': '_2_1',\n",
       "  'created': '2019-07-22T03:01:42.000Z',\n",
       "  'availability': {'available': 'Yes'},\n",
       "  'courseRoleId': 'Student'},\n",
       " {'userId': '_805447_1',\n",
       "  'courseId': '_332335_1',\n",
       "  'dataSourceId': '_2_1',\n",
       "  'created': '2019-07-22T03:01:38.000Z',\n",
       "  'availability': {'available': 'Yes'},\n",
       "  'courseRoleId': 'Student'},\n",
       " {'userId': '_805420_1',\n",
       "  'courseId': '_332335_1',\n",
       "  'dataSourceId': '_2_1',\n",
       "  'created': '2019-07-22T03:01:31.000Z',\n",
       "  'availability': {'available': 'Yes'},\n",
       "  'courseRoleId': 'Student'},\n",
       " {'userId': '_805465_1',\n",
       "  'courseId': '_332335_1',\n",
       "  'childCourseId': '_332336_1',\n",
       "  'dataSourceId': '_2_1',\n",
       "  'created': '2019-07-22T03:01:43.000Z',\n",
       "  'availability': {'available': 'Yes'},\n",
       "  'courseRoleId': 'Student'},\n",
       " {'userId': '_805468_1',\n",
       "  'courseId': '_332335_1',\n",
       "  'childCourseId': '_332336_1',\n",
       "  'dataSourceId': '_2_1',\n",
       "  'created': '2019-07-22T03:01:44.000Z',\n",
       "  'availability': {'available': 'Yes'},\n",
       "  'courseRoleId': 'Student'},\n",
       " {'userId': '_805427_1',\n",
       "  'courseId': '_332335_1',\n",
       "  'childCourseId': '_332336_1',\n",
       "  'dataSourceId': '_2_1',\n",
       "  'created': '2019-07-22T03:01:33.000Z',\n",
       "  'availability': {'available': 'Yes'},\n",
       "  'courseRoleId': 'Student'},\n",
       " {'userId': '_805425_1',\n",
       "  'courseId': '_332335_1',\n",
       "  'dataSourceId': '_2_1',\n",
       "  'created': '2019-07-22T03:01:33.000Z',\n",
       "  'availability': {'available': 'Yes'},\n",
       "  'courseRoleId': 'Student'},\n",
       " {'userId': '_702000_1',\n",
       "  'courseId': '_332335_1',\n",
       "  'dataSourceId': '_2_1',\n",
       "  'created': '2019-07-22T03:00:30.000Z',\n",
       "  'availability': {'available': 'Yes'},\n",
       "  'courseRoleId': 'Instructor',\n",
       "  'lastAccessed': '2019-07-22T03:12:34.000Z'},\n",
       " {'userId': '_805450_1',\n",
       "  'courseId': '_332335_1',\n",
       "  'dataSourceId': '_2_1',\n",
       "  'created': '2019-07-22T03:01:39.000Z',\n",
       "  'availability': {'available': 'Yes'},\n",
       "  'courseRoleId': 'Student'}]"
      ]
     },
     "execution_count": 5,
     "metadata": {},
     "output_type": "execute_result"
    }
   ],
   "source": [
    "members[:10]"
   ]
  },
  {
   "cell_type": "markdown",
   "metadata": {},
   "source": [
    "## Get all unique courseIds to create groups"
   ]
  },
  {
   "cell_type": "code",
   "execution_count": 6,
   "metadata": {},
   "outputs": [
    {
     "name": "stdout",
     "output_type": "stream",
     "text": [
      "{'_332335_1', '_332336_1', '_332337_1'}\n"
     ]
    }
   ],
   "source": [
    "courseIds = set([member.get('childCourseId', member.get('courseId', '')) for member in members])\n",
    "print(courseIds)"
   ]
  },
  {
   "cell_type": "code",
   "execution_count": 7,
   "metadata": {},
   "outputs": [
    {
     "data": {
      "text/plain": [
       "{'results': [{'id': '_332336_1',\n",
       "   'dataSourceId': '_2_1',\n",
       "   'created': '2019-07-22T03:10:50.000Z'},\n",
       "  {'id': '_332337_1',\n",
       "   'dataSourceId': '_2_1',\n",
       "   'created': '2019-07-22T03:10:52.000Z'}]}"
      ]
     },
     "execution_count": 7,
     "metadata": {},
     "output_type": "execute_result"
    }
   ],
   "source": [
    "bb.GetCourseChildren('NAC-DevCon1').json()"
   ]
  },
  {
   "cell_type": "markdown",
   "metadata": {},
   "source": [
    "## Generate groups for each section (parent and child)"
   ]
  },
  {
   "cell_type": "code",
   "execution_count": 8,
   "metadata": {},
   "outputs": [
    {
     "name": "stdout",
     "output_type": "stream",
     "text": [
      "201\n",
      "201\n",
      "201\n"
     ]
    }
   ],
   "source": [
    "for courseId in courseIds:\n",
    "    course_info = bb.GetCourse(courseId).json()\n",
    "    group = {\n",
    "        'name':course_info['courseId'],\n",
    "        'externalId':course_info['courseId'],\n",
    "        'availability':{'available':'Yes'}\n",
    "    }\n",
    "    r = bb.CreateGroup(courseId='NAC-DevCon1', payload=group)\n",
    "    print(r.status_code)"
   ]
  },
  {
   "cell_type": "markdown",
   "metadata": {},
   "source": [
    "## Enroll students in their sections"
   ]
  },
  {
   "cell_type": "code",
   "execution_count": 9,
   "metadata": {},
   "outputs": [
    {
     "name": "stdout",
     "output_type": "stream",
     "text": [
      "201\n",
      "201\n",
      "201\n",
      "201\n",
      "201\n",
      "201\n",
      "201\n",
      "201\n",
      "201\n",
      "201\n",
      "201\n",
      "201\n",
      "201\n",
      "201\n",
      "201\n",
      "201\n",
      "201\n",
      "201\n",
      "201\n",
      "201\n",
      "201\n",
      "201\n",
      "201\n",
      "201\n",
      "201\n",
      "201\n",
      "201\n",
      "201\n",
      "201\n",
      "201\n",
      "201\n",
      "201\n",
      "201\n",
      "201\n",
      "201\n",
      "201\n",
      "201\n",
      "201\n",
      "201\n",
      "201\n",
      "201\n",
      "201\n",
      "201\n",
      "201\n",
      "201\n",
      "201\n",
      "201\n",
      "201\n",
      "201\n"
     ]
    }
   ],
   "source": [
    "students = [member for member in members if member['courseRoleId'] == 'Student']\n",
    "for student in students:\n",
    "    userId = student['userId']\n",
    "    courseId = student.get('childCourseId', student.get('courseId', ''))\n",
    "    groupId = bb.GetCourse(courseId).json()['courseId']\n",
    "    r = bb.PutGroupMembership(courseId=\"NAC-DevCon1\", userId=userId, groupId=f'{groupId}')\n",
    "    print(r.status_code)"
   ]
  },
  {
   "cell_type": "code",
   "execution_count": 10,
   "metadata": {},
   "outputs": [],
   "source": [
    "for course in ['NAC-DevCon1', 'NAC-DevCon2', 'NAC-DevCon3']:\n",
    "    r = bb.PutGroupMembership(courseId='NAC-DevCon1', userId='m500d520', groupId=course)"
   ]
  },
  {
   "cell_type": "code",
   "execution_count": 11,
   "metadata": {},
   "outputs": [
    {
     "data": {
      "text/plain": [
       "{'results': [{'id': '_138681_1',\n",
       "   'externalId': 'NAC-DevCon1',\n",
       "   'parentId': None,\n",
       "   'name': 'NAC-DevCon1',\n",
       "   'availability': {'available': 'Yes'},\n",
       "   'enrollment': {'type': 'InstructorOnly', 'limit': 0}},\n",
       "  {'id': '_138682_1',\n",
       "   'externalId': 'NAC-DevCon2',\n",
       "   'parentId': None,\n",
       "   'name': 'NAC-DevCon2',\n",
       "   'availability': {'available': 'Yes'},\n",
       "   'enrollment': {'type': 'InstructorOnly', 'limit': 0}},\n",
       "  {'id': '_138683_1',\n",
       "   'externalId': 'NAC-DevCon3',\n",
       "   'parentId': None,\n",
       "   'name': 'NAC-DevCon3',\n",
       "   'availability': {'available': 'Yes'},\n",
       "   'enrollment': {'type': 'InstructorOnly', 'limit': 0}}]}"
      ]
     },
     "execution_count": 11,
     "metadata": {},
     "output_type": "execute_result"
    }
   ],
   "source": [
    "bb.GetGroups('NAC-DevCon1').json()"
   ]
  },
  {
   "cell_type": "code",
   "execution_count": 12,
   "metadata": {},
   "outputs": [
    {
     "data": {
      "text/plain": [
       "{'results': [{'userId': '_805458_1'},\n",
       "  {'userId': '_805457_1'},\n",
       "  {'userId': '_805433_1'},\n",
       "  {'userId': '_805446_1'},\n",
       "  {'userId': '_805459_1'},\n",
       "  {'userId': '_805463_1'},\n",
       "  {'userId': '_805455_1'},\n",
       "  {'userId': '_702000_1'},\n",
       "  {'userId': '_805465_1'},\n",
       "  {'userId': '_805468_1'},\n",
       "  {'userId': '_805427_1'},\n",
       "  {'userId': '_805466_1'},\n",
       "  {'userId': '_805467_1'},\n",
       "  {'userId': '_805422_1'},\n",
       "  {'userId': '_805456_1'},\n",
       "  {'userId': '_805428_1'},\n",
       "  {'userId': '_805434_1'},\n",
       "  {'userId': '_805429_1'},\n",
       "  {'userId': '_805448_1'},\n",
       "  {'userId': '_805453_1'}]}"
      ]
     },
     "execution_count": 12,
     "metadata": {},
     "output_type": "execute_result"
    }
   ],
   "source": [
    "bb.GetGroupMemberships(courseId='NAC-DevCon1',groupId='NAC-DevCon2').json()"
   ]
  },
  {
   "cell_type": "code",
   "execution_count": null,
   "metadata": {},
   "outputs": [],
   "source": []
  }
 ],
 "metadata": {
  "kernelspec": {
   "display_name": "Python 3",
   "language": "python",
   "name": "python3"
  },
  "language_info": {
   "codemirror_mode": {
    "name": "ipython",
    "version": 3
   },
   "file_extension": ".py",
   "mimetype": "text/x-python",
   "name": "python",
   "nbconvert_exporter": "python",
   "pygments_lexer": "ipython3",
   "version": "3.7.0"
  }
 },
 "nbformat": 4,
 "nbformat_minor": 2
}
