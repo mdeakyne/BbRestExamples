{
 "cells": [
  {
   "cell_type": "markdown",
   "metadata": {},
   "source": [
    "# 0. Setup\n",
    "Load bbrest and environment variables."
   ]
  },
  {
   "cell_type": "code",
   "execution_count": 1,
   "metadata": {},
   "outputs": [],
   "source": [
    "from bbrest import BbRest\n",
    "from os import getenv as ge\n",
    "from dotenv import load_dotenv\n",
    "load_dotenv()\n",
    "\n",
    "url = ge('url')\n",
    "key = ge('key')\n",
    "secret = ge('secret')\n",
    "\n",
    "bb = BbRest(url=url,\n",
    "            key=key,\n",
    "            secret=secret)"
   ]
  },
  {
   "cell_type": "code",
   "execution_count": 1,
   "metadata": {},
   "outputs": [],
   "source": [
    "import uuid"
   ]
  },
  {
   "cell_type": "code",
   "execution_count": 7,
   "metadata": {},
   "outputs": [
    {
     "data": {
      "text/plain": [
       "'c6975536-cdac-11ea-857a-6c96cfd83ab1'"
      ]
     },
     "execution_count": 7,
     "metadata": {},
     "output_type": "execute_result"
    }
   ],
   "source": [
    "str(uuid.uuid1())"
   ]
  },
  {
   "cell_type": "markdown",
   "metadata": {},
   "source": [
    "# 1. Getting the code manually\n",
    "* Use existing connection to generate an auth URL.\n",
    "* Click on URL and log in \n",
    "* Grab the 'code' string from the url\n",
    "* Paste the code and the redirect_uri into a new BbRest object"
   ]
  },
  {
   "cell_type": "markdown",
   "metadata": {},
   "source": [
    "### Use existing connection to generate an auth url"
   ]
  },
  {
   "cell_type": "code",
   "execution_count": 2,
   "metadata": {},
   "outputs": [
    {
     "data": {
      "text/plain": [
       "'https://kubbrest.zapto.org/webapps/login/?new_loc=%2Fwebapps%2Fapi-gateway%2Foauth2%2Fauthorizationcode%3Fresponse_type%3Dcode%26client_id%3Dd279753a-8319-4910-8b27-0ed5de84bcaf%26redirect_uri%3Dhttps%253A%252F%252Ftest.blackboard.com%26scope%3Dread%26state%3DDC1067EE-63B9-40FE-A0AD-B9AC069BF4B0'"
      ]
     },
     "execution_count": 2,
     "metadata": {},
     "output_type": "execute_result"
    }
   ],
   "source": [
    "redirect_uri = 'https://test.blackboard.com'\n",
    "bb.get_auth_url(scope='read', redirect_uri=redirect_uri)"
   ]
  },
  {
   "cell_type": "markdown",
   "metadata": {},
   "source": [
    "### Click on URL and log in\n",
    "### Grab the 'code' string from the url"
   ]
  },
  {
   "cell_type": "markdown",
   "metadata": {},
   "source": [
    "![SegmentLocal](images/LoginExample.gif \"new login\")"
   ]
  },
  {
   "cell_type": "markdown",
   "metadata": {},
   "source": [
    "### Paste the code and the redirect_uri into a new BbRest object"
   ]
  },
  {
   "cell_type": "code",
   "execution_count": 3,
   "metadata": {},
   "outputs": [],
   "source": [
    "code=\"Mtj9TDbWDsf92aTrOM72pZ2kr7COK5FV\""
   ]
  },
  {
   "cell_type": "code",
   "execution_count": 4,
   "metadata": {},
   "outputs": [],
   "source": [
    "bb2 = BbRest(url=url,\n",
    "             key=key,\n",
    "             secret=secret,\n",
    "             code=code,\n",
    "             redirect_uri=redirect_uri)"
   ]
  },
  {
   "cell_type": "markdown",
   "metadata": {},
   "source": [
    "# 2. New Features\n",
    "All BbRest objects now have a token_info dictionary. This contains all information recieved back from a token. \n",
    "\n",
    "This is stored so that we can do refreshes, and ensure BbRest is authenticated using the user and scopes we expect.\n",
    "\n",
    "If elevated privelleges have been granted by a user to a REST application - it is difficult to reduce these, so typically start with Read scope.\n",
    "\n",
    "Token info also does not update until a token has to be refreshed, so - the expiration() function is still more useful at letting you know how much time individual BbRest objects are authenticated for."
   ]
  },
  {
   "cell_type": "code",
   "execution_count": 5,
   "metadata": {},
   "outputs": [
    {
     "data": {
      "text/plain": [
       "{'access_token': 'r9u1az3lA38fuuzkIq4P8ccf88YJK9CT',\n",
       " 'token_type': 'bearer',\n",
       " 'expires_in': 2756}"
      ]
     },
     "execution_count": 5,
     "metadata": {},
     "output_type": "execute_result"
    }
   ],
   "source": [
    "bb.token_info"
   ]
  },
  {
   "cell_type": "code",
   "execution_count": 6,
   "metadata": {},
   "outputs": [
    {
     "data": {
      "text/plain": [
       "{'access_token': 'ADFN04MfXXtEW28Q67dSyROS3XzJgxhP',\n",
       " 'token_type': 'bearer',\n",
       " 'expires_in': 2412,\n",
       " 'scope': 'read',\n",
       " 'user_id': '1b8488442b7b4a979bd33ec8dec0d939'}"
      ]
     },
     "execution_count": 6,
     "metadata": {},
     "output_type": "execute_result"
    }
   ],
   "source": [
    "bb2.token_info"
   ]
  },
  {
   "cell_type": "code",
   "execution_count": 7,
   "metadata": {},
   "outputs": [
    {
     "data": {
      "text/plain": [
       "'in 40 minutes'"
      ]
     },
     "execution_count": 7,
     "metadata": {},
     "output_type": "execute_result"
    }
   ],
   "source": [
    "bb2.expiration()"
   ]
  },
  {
   "cell_type": "code",
   "execution_count": 8,
   "metadata": {},
   "outputs": [
    {
     "data": {
      "text/plain": [
       "{'id': '_10_1',\n",
       " 'userName': 'testing2',\n",
       " 'educationLevel': 'Unknown',\n",
       " 'gender': 'Unknown',\n",
       " 'modified': '2020-07-06T19:15:34.056Z',\n",
       " 'institutionRoleIds': ['STUDENT'],\n",
       " 'systemRoleIds': ['User'],\n",
       " 'name': {'given': 'Test', 'family': 'Testerton'}}"
      ]
     },
     "execution_count": 8,
     "metadata": {},
     "output_type": "execute_result"
    }
   ],
   "source": [
    "# User permissions\n",
    "bb2.GetUser('uuid:1b8488442b7b4a979bd33ec8dec0d939').json()"
   ]
  },
  {
   "cell_type": "code",
   "execution_count": 9,
   "metadata": {},
   "outputs": [
    {
     "data": {
      "text/plain": [
       "{'id': '_10_1',\n",
       " 'uuid': '1b8488442b7b4a979bd33ec8dec0d939',\n",
       " 'externalId': 'testing2',\n",
       " 'dataSourceId': '_2_1',\n",
       " 'userName': 'testing2',\n",
       " 'educationLevel': 'Unknown',\n",
       " 'gender': 'Unknown',\n",
       " 'created': '2020-07-06T18:55:55.992Z',\n",
       " 'modified': '2020-07-06T19:15:34.056Z',\n",
       " 'lastLogin': '2020-07-06T19:15:34.055Z',\n",
       " 'institutionRoleIds': ['STUDENT'],\n",
       " 'systemRoleIds': ['User'],\n",
       " 'availability': {'available': 'Yes'},\n",
       " 'name': {'given': 'Test', 'family': 'Testerton'}}"
      ]
     },
     "execution_count": 9,
     "metadata": {},
     "output_type": "execute_result"
    }
   ],
   "source": [
    "# Admin permissions\n",
    "bb.GetUser('uuid:1b8488442b7b4a979bd33ec8dec0d939').json()"
   ]
  },
  {
   "cell_type": "code",
   "execution_count": 10,
   "metadata": {},
   "outputs": [
    {
     "data": {
      "text/plain": [
       "{'status': 404, 'message': 'User does not exist:Requested user is not found.'}"
      ]
     },
     "execution_count": 10,
     "metadata": {},
     "output_type": "execute_result"
    }
   ],
   "source": [
    "# User permissions \n",
    "#In the example below - this is an Admin user\n",
    "bb2.GetUser('m500d520').json()"
   ]
  },
  {
   "cell_type": "code",
   "execution_count": 11,
   "metadata": {},
   "outputs": [
    {
     "data": {
      "text/plain": [
       "{'id': '_6_1',\n",
       " 'uuid': '1afc494e687940e9a07944785c9ebd5b',\n",
       " 'externalId': 'm500d520',\n",
       " 'dataSourceId': '_2_1',\n",
       " 'userName': 'm500d520',\n",
       " 'educationLevel': 'Unknown',\n",
       " 'gender': 'Male',\n",
       " 'created': '2020-06-24T19:51:41.208Z',\n",
       " 'modified': '2020-07-06T16:16:33.579Z',\n",
       " 'lastLogin': '2020-07-06T16:16:33.578Z',\n",
       " 'institutionRoleIds': ['STAFF'],\n",
       " 'systemRoleIds': ['SystemAdmin'],\n",
       " 'availability': {'available': 'Yes'},\n",
       " 'name': {'given': 'Matt', 'family': 'Deakyne'},\n",
       " 'contact': {'email': 'm.d@ku.edu'}}"
      ]
     },
     "execution_count": 11,
     "metadata": {},
     "output_type": "execute_result"
    }
   ],
   "source": [
    "# Admin permissions\n",
    "bb.GetUser('m500d520').json()"
   ]
  },
  {
   "cell_type": "code",
   "execution_count": 12,
   "metadata": {},
   "outputs": [
    {
     "data": {
      "text/plain": [
       "{'status': 403,\n",
       " 'message': 'Application not authorized to perform PATCH requests.'}"
      ]
     },
     "execution_count": 12,
     "metadata": {},
     "output_type": "execute_result"
    }
   ],
   "source": [
    "# Read permissions\n",
    "bb2.UpdateUser('uuid:1b8488442b7b4a979bd33ec8dec0d939', payload={'password':'test'}).json()"
   ]
  },
  {
   "cell_type": "markdown",
   "metadata": {},
   "source": [
    "# 3. Refreshing a token "
   ]
  },
  {
   "cell_type": "markdown",
   "metadata": {},
   "source": [
    "### Non-3lo refresh example"
   ]
  },
  {
   "cell_type": "code",
   "execution_count": 13,
   "metadata": {},
   "outputs": [
    {
     "data": {
      "text/plain": [
       "{'access_token': 'r9u1az3lA38fuuzkIq4P8ccf88YJK9CT',\n",
       " 'token_type': 'bearer',\n",
       " 'expires_in': 2756}"
      ]
     },
     "execution_count": 13,
     "metadata": {},
     "output_type": "execute_result"
    }
   ],
   "source": [
    "bb.token_info"
   ]
  },
  {
   "cell_type": "code",
   "execution_count": 14,
   "metadata": {},
   "outputs": [],
   "source": [
    "bb.refresh_token()"
   ]
  },
  {
   "cell_type": "code",
   "execution_count": 15,
   "metadata": {},
   "outputs": [
    {
     "data": {
      "text/plain": [
       "{'access_token': 'r9u1az3lA38fuuzkIq4P8ccf88YJK9CT',\n",
       " 'token_type': 'bearer',\n",
       " 'expires_in': 2713}"
      ]
     },
     "execution_count": 15,
     "metadata": {},
     "output_type": "execute_result"
    }
   ],
   "source": [
    "bb.token_info"
   ]
  },
  {
   "cell_type": "markdown",
   "metadata": {},
   "source": [
    "### Non-offline 3lo example\n",
    "Do not refresh the token unless it's expired, as you will have to log in again.  "
   ]
  },
  {
   "cell_type": "code",
   "execution_count": 17,
   "metadata": {},
   "outputs": [
    {
     "data": {
      "text/plain": [
       "{'access_token': 'ADFN04MfXXtEW28Q67dSyROS3XzJgxhP',\n",
       " 'token_type': 'bearer',\n",
       " 'expires_in': 2412,\n",
       " 'scope': 'read',\n",
       " 'user_id': '1b8488442b7b4a979bd33ec8dec0d939'}"
      ]
     },
     "execution_count": 17,
     "metadata": {},
     "output_type": "execute_result"
    }
   ],
   "source": [
    "bb2.token_info"
   ]
  },
  {
   "cell_type": "code",
   "execution_count": 18,
   "metadata": {},
   "outputs": [
    {
     "name": "stdout",
     "output_type": "stream",
     "text": [
      "Need to log in again at https://kubbrest.zapto.org/webapps/login/?new_loc=%2Fwebapps%2Fapi-gateway%2Foauth2%2Fauthorizationcode%3Fresponse_type%3Dcode%26client_id%3Dd279753a-8319-4910-8b27-0ed5de84bcaf%26redirect_uri%3Dhttps%253A%252F%252Ftest.blackboard.com%26scope%3Dread%26state%3DDC1067EE-63B9-40FE-A0AD-B9AC069BF4B0\n"
     ]
    }
   ],
   "source": [
    "bb2.refresh_token()"
   ]
  },
  {
   "cell_type": "code",
   "execution_count": 19,
   "metadata": {},
   "outputs": [],
   "source": [
    "code = \"kJd8OCY2b3YUjpEFpahrgXgyxk95n8aw\"\n",
    "bb2 = BbRest(url=url,\n",
    "             key=key,\n",
    "             secret=secret,\n",
    "             code=code,\n",
    "             redirect_uri=redirect_uri)"
   ]
  },
  {
   "cell_type": "code",
   "execution_count": 20,
   "metadata": {},
   "outputs": [
    {
     "data": {
      "text/plain": [
       "{'access_token': 'ADFN04MfXXtEW28Q67dSyROS3XzJgxhP',\n",
       " 'token_type': 'bearer',\n",
       " 'expires_in': 2267,\n",
       " 'scope': 'read',\n",
       " 'user_id': '1b8488442b7b4a979bd33ec8dec0d939'}"
      ]
     },
     "execution_count": 20,
     "metadata": {},
     "output_type": "execute_result"
    }
   ],
   "source": [
    "bb2.token_info"
   ]
  },
  {
   "cell_type": "markdown",
   "metadata": {},
   "source": [
    "### Offline 3lo example\n",
    "If expired, BbRest will auto renew the token using the refresh_token workflow.  "
   ]
  },
  {
   "cell_type": "code",
   "execution_count": 21,
   "metadata": {},
   "outputs": [
    {
     "data": {
      "text/plain": [
       "'https://kubbrest.zapto.org/webapps/login/?new_loc=%2Fwebapps%2Fapi-gateway%2Foauth2%2Fauthorizationcode%3Fresponse_type%3Dcode%26client_id%3Dd279753a-8319-4910-8b27-0ed5de84bcaf%26redirect_uri%3Dhttps%253A%252F%252Ftest.blackboard.com%26scope%3Dread%2Bwrite%2Boffline%26state%3DDC1067EE-63B9-40FE-A0AD-B9AC069BF4B0'"
      ]
     },
     "execution_count": 21,
     "metadata": {},
     "output_type": "execute_result"
    }
   ],
   "source": [
    "redirect_uri = 'https://test.blackboard.com'\n",
    "bb.get_auth_url(scope='read write offline', redirect_uri=redirect_uri)"
   ]
  },
  {
   "cell_type": "code",
   "execution_count": 22,
   "metadata": {},
   "outputs": [],
   "source": [
    "code=\"RPTXLq80znEdMQDN5TzK506MjqfVVtxj\"\n",
    "bb3 = BbRest(url=url,\n",
    "             key=key,\n",
    "             secret=secret,\n",
    "             code=code,\n",
    "             redirect_uri=redirect_uri)"
   ]
  },
  {
   "cell_type": "code",
   "execution_count": 23,
   "metadata": {},
   "outputs": [
    {
     "data": {
      "text/plain": [
       "{'access_token': 'qk4UB1ynbsapWZt1FNkEJx3WpxVLLmto',\n",
       " 'token_type': 'bearer',\n",
       " 'expires_in': 2921,\n",
       " 'refresh_token': '6f032f179ee748c3955ff20308462164:lVYLO8jtT3vIB0btfA9xX7qEeLBiCJnY',\n",
       " 'scope': 'read write offline',\n",
       " 'user_id': '6f032f179ee748c3955ff20308462164'}"
      ]
     },
     "execution_count": 23,
     "metadata": {},
     "output_type": "execute_result"
    }
   ],
   "source": [
    "bb3.token_info"
   ]
  },
  {
   "cell_type": "code",
   "execution_count": 24,
   "metadata": {},
   "outputs": [],
   "source": [
    "bb3.refresh_token()"
   ]
  },
  {
   "cell_type": "code",
   "execution_count": 25,
   "metadata": {},
   "outputs": [
    {
     "data": {
      "text/plain": [
       "{'access_token': 'qk4UB1ynbsapWZt1FNkEJx3WpxVLLmto',\n",
       " 'token_type': 'bearer',\n",
       " 'expires_in': 2916,\n",
       " 'refresh_token': '6f032f179ee748c3955ff20308462164:YjnEwdnQcMbdNyrSwW0cPBPwVW9cnmtz',\n",
       " 'scope': 'read write offline',\n",
       " 'user_id': '6f032f179ee748c3955ff20308462164'}"
      ]
     },
     "execution_count": 25,
     "metadata": {},
     "output_type": "execute_result"
    }
   ],
   "source": [
    "bb3.token_info"
   ]
  },
  {
   "cell_type": "markdown",
   "metadata": {},
   "source": [
    "# 4. Automating the login process\n",
    "* Create a user\n",
    "* Write code using helium to login as that user and pull the code\n",
    "* Automate everything"
   ]
  },
  {
   "cell_type": "code",
   "execution_count": 26,
   "metadata": {},
   "outputs": [
    {
     "data": {
      "text/plain": [
       "{'id': '_12_1',\n",
       " 'uuid': 'c47436e553b840c0a9ddb9b450e1b1db',\n",
       " 'externalId': 'testing4',\n",
       " 'dataSourceId': '_2_1',\n",
       " 'userName': 'testing4',\n",
       " 'educationLevel': 'Unknown',\n",
       " 'gender': 'Unknown',\n",
       " 'created': '2020-07-06T19:27:10.478Z',\n",
       " 'modified': '2020-07-06T19:27:10.478Z',\n",
       " 'institutionRoleIds': ['STUDENT'],\n",
       " 'systemRoleIds': ['User'],\n",
       " 'availability': {'available': 'Yes'},\n",
       " 'name': {'given': 'Test 4', 'family': 'Testerton'}}"
      ]
     },
     "execution_count": 26,
     "metadata": {},
     "output_type": "execute_result"
    }
   ],
   "source": [
    "bb.CreateUser(payload={'userName':'testing4',\n",
    "                       'name':{'given':'Test 4','family':'Testerton'},\n",
    "                       'password':'xxxxxxx'}).json()"
   ]
  },
  {
   "cell_type": "code",
   "execution_count": null,
   "metadata": {},
   "outputs": [],
   "source": [
    "def "
   ]
  }
 ],
 "metadata": {
  "kernelspec": {
   "display_name": "Python 3",
   "language": "python",
   "name": "python3"
  },
  "language_info": {
   "codemirror_mode": {
    "name": "ipython",
    "version": 3
   },
   "file_extension": ".py",
   "mimetype": "text/x-python",
   "name": "python",
   "nbconvert_exporter": "python",
   "pygments_lexer": "ipython3",
   "version": "3.8.3"
  }
 },
 "nbformat": 4,
 "nbformat_minor": 4
}
